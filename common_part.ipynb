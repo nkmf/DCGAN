{
  "nbformat": 4,
  "nbformat_minor": 0,
  "metadata": {
    "colab": {
      "name": "common part.ipynb",
      "provenance": [],
      "collapsed_sections": []
    },
    "kernelspec": {
      "name": "python3",
      "display_name": "Python 3"
    },
    "language_info": {
      "name": "python"
    }
  },
  "cells": [
    {
      "cell_type": "code",
      "metadata": {
        "colab": {
          "base_uri": "https://localhost:8080/"
        },
        "id": "GEgulLWhqK7p",
        "outputId": "61fafbeb-c28a-467d-8ef7-e319cdb3060e"
      },
      "source": [
        "import argparse\n",
        "parser = argparse.ArgumentParser()\n",
        "parser.add_argument(\"--n_epoch\", type=int, default=200)\n",
        "parser.add_argument(\"--batch_size\", type=int, default=64)\n",
        "parser.add_argument(\"--lr\", type=float, default=2e-4)\n",
        "parser.add_argument(\"--nch_g\", type=int, default=128)\n",
        "parser.add_argument(\"--nch_d\", type=int, default=128)\n",
        "parser.add_argument(\"--z_dim\", type=int, default=100)\n",
        "parser.add_argument(\"--beta1\", type=float, default=0.5)\n",
        "opt = parser.parse_args(args=[])\n",
        "print(opt)"
      ],
      "execution_count": null,
      "outputs": [
        {
          "output_type": "stream",
          "text": [
            "Namespace(batch_size=64, beta1=0.5, lr=0.0002, n_epoch=200, nch_d=128, nch_g=128, z_dim=100)\n"
          ],
          "name": "stdout"
        }
      ]
    },
    {
      "cell_type": "code",
      "metadata": {
        "colab": {
          "base_uri": "https://localhost:8080/"
        },
        "id": "OSfgXSdYrJby",
        "outputId": "f23540ad-14f3-4a49-9f08-9ae129b799cb"
      },
      "source": [
        "opt.lr"
      ],
      "execution_count": null,
      "outputs": [
        {
          "output_type": "execute_result",
          "data": {
            "text/plain": [
              "0.0002"
            ]
          },
          "metadata": {
            "tags": []
          },
          "execution_count": 2
        }
      ]
    },
    {
      "cell_type": "code",
      "metadata": {
        "id": "LRhkYmTFrQuC"
      },
      "source": [
        "from torch.utils.data import Dataset\n",
        "from PIL import Image\n",
        "\n",
        "class ImageDataset(Dataset):\n",
        "    def __init__(self, file_list, transform=None):\n",
        "        super().__init__()\n",
        "        self.file_list = file_list\n",
        "        self.transform = transform\n",
        "\n",
        "    def __getitem__(self, index):\n",
        "        if self.transform is not None:\n",
        "            img = self.transform(Image.open(self.file_list[index]))\n",
        "        else:\n",
        "            img = Image.open(self.file_list[index])\n",
        "        return img\n",
        "\n",
        "    def __len__(self):\n",
        "        return len(self.file_list)\n"
      ],
      "execution_count": null,
      "outputs": []
    },
    {
      "cell_type": "code",
      "metadata": {
        "id": "vUj3jOP0rdnr"
      },
      "source": [
        "import torchvision.transforms as transforms\n",
        "transform = transforms.Compose([\n",
        "    transforms.Resize((28, 28)),\n",
        "    transforms.ToTensor(),\n",
        "    transforms.Normalize((0.5, ), (0.5, ))                               \n",
        "])"
      ],
      "execution_count": null,
      "outputs": []
    },
    {
      "cell_type": "code",
      "metadata": {
        "id": "3G5Nr66JsyAn"
      },
      "source": [
        "import torchvision.datasets as dset"
      ],
      "execution_count": null,
      "outputs": []
    },
    {
      "cell_type": "code",
      "metadata": {
        "id": "d8a_Qjlbs_rd"
      },
      "source": [
        "dataset = dset.MNIST(\"./\", train=True, download=True)"
      ],
      "execution_count": null,
      "outputs": []
    },
    {
      "cell_type": "code",
      "metadata": {
        "id": "9jy4pmL9tFac"
      },
      "source": [
        "dataset = dset.MNIST(\"./drive/MyDrive/data/\", download=False, train=True, transform=transform)"
      ],
      "execution_count": null,
      "outputs": []
    },
    {
      "cell_type": "code",
      "metadata": {
        "id": "0TqUDWBdt4S-"
      },
      "source": [
        "from torch.utils.data import DataLoader"
      ],
      "execution_count": null,
      "outputs": []
    },
    {
      "cell_type": "code",
      "metadata": {
        "id": "y-skCTFUuH1M"
      },
      "source": [
        "dataloader = DataLoader(dataset=dataset, batch_size=opt.batch_size,\n",
        "                        shuffle=True)"
      ],
      "execution_count": null,
      "outputs": []
    },
    {
      "cell_type": "code",
      "metadata": {
        "id": "OzpPLe1_vD4y"
      },
      "source": [
        "import torch.nn as nn"
      ],
      "execution_count": null,
      "outputs": []
    },
    {
      "cell_type": "code",
      "metadata": {
        "id": "5j3-bxLCuN_M"
      },
      "source": [
        "def weights_init(m):\n",
        "    classname = m.__class__.__name__\n",
        "    if classname.find(\"Conv\") != -1:\n",
        "        nn.init.normal_(m.weight.data, 0.0, 0.02)\n",
        "    elif classname.find(\"BatchNorm\") != -1:\n",
        "        nn.init.normal_(m.weight.data, 1.0, 0.02)\n",
        "        nn.init.constant_(m.bias.data, 0)"
      ],
      "execution_count": null,
      "outputs": []
    },
    {
      "cell_type": "code",
      "metadata": {
        "id": "a3IeWjmGvH9k"
      },
      "source": [
        ""
      ],
      "execution_count": null,
      "outputs": []
    }
  ]
}